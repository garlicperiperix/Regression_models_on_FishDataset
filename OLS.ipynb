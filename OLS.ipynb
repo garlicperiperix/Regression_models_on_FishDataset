{
 "cells": [
  {
   "cell_type": "code",
   "execution_count": 2,
   "id": "b455504e",
   "metadata": {},
   "outputs": [
    {
     "name": "stdout",
     "output_type": "stream",
     "text": [
      "                            OLS Regression Results                            \n",
      "==============================================================================\n",
      "Dep. Variable:                 Weight   R-squared:                       0.885\n",
      "Model:                            OLS   Adj. R-squared:                  0.882\n",
      "Method:                 Least Squares   F-statistic:                     236.2\n",
      "Date:                Fri, 25 Feb 2022   Prob (F-statistic):           4.95e-70\n",
      "Time:                        12:39:09   Log-Likelihood:                -987.96\n",
      "No. Observations:                 159   AIC:                             1988.\n",
      "Df Residuals:                     153   BIC:                             2006.\n",
      "Df Model:                           5                                         \n",
      "Covariance Type:            nonrobust                                         \n",
      "==============================================================================\n",
      "                 coef    std err          t      P>|t|      [0.025      0.975]\n",
      "------------------------------------------------------------------------------\n",
      "const       -499.5870     29.572    -16.894      0.000    -558.010    -441.164\n",
      "Length1       62.3552     40.209      1.551      0.123     -17.081     141.791\n",
      "Length2       -6.5268     41.759     -0.156      0.876     -89.025      75.971\n",
      "Length3      -29.0262     17.353     -1.673      0.096     -63.309       5.256\n",
      "Height        28.2974      8.729      3.242      0.001      11.052      45.543\n",
      "Width         22.4733     20.372      1.103      0.272     -17.773      62.720\n",
      "==============================================================================\n",
      "Omnibus:                       20.989   Durbin-Watson:                   0.424\n",
      "Prob(Omnibus):                  0.000   Jarque-Bera (JB):               27.307\n",
      "Skew:                           0.792   Prob(JB):                     1.18e-06\n",
      "Kurtosis:                       4.269   Cond. No.                         315.\n",
      "==============================================================================\n",
      "\n",
      "Notes:\n",
      "[1] Standard Errors assume that the covariance matrix of the errors is correctly specified.\n"
     ]
    }
   ],
   "source": [
    "import pandas as pd\n",
    "import statsmodels.api as sm\n",
    "\n",
    "\n",
    "df = pd.read_csv('Fish.csv')\n",
    "df = df.drop('Species', axis=1, inplace=False)\n",
    "X = df.drop('Weight', axis=1, inplace=False)\n",
    "Y = df['Weight']\n",
    "\n",
    "X = sm.add_constant(X) # adding a constant\n",
    "\n",
    "model = sm.OLS(Y, X).fit()\n",
    "predictions = model.predict(X) \n",
    "\n",
    "print_model = model.summary()\n",
    "print(print_model)"
   ]
  },
  {
   "cell_type": "code",
   "execution_count": null,
   "id": "e0300f97",
   "metadata": {},
   "outputs": [],
   "source": []
  }
 ],
 "metadata": {
  "kernelspec": {
   "display_name": "Python 3 (ipykernel)",
   "language": "python",
   "name": "python3"
  },
  "language_info": {
   "codemirror_mode": {
    "name": "ipython",
    "version": 3
   },
   "file_extension": ".py",
   "mimetype": "text/x-python",
   "name": "python",
   "nbconvert_exporter": "python",
   "pygments_lexer": "ipython3",
   "version": "3.8.13"
  }
 },
 "nbformat": 4,
 "nbformat_minor": 5
}
